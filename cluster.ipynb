{
 "cells": [
  {
   "cell_type": "code",
   "execution_count": 2,
   "metadata": {},
   "outputs": [
    {
     "data": {
      "text/html": [
       "<div>\n",
       "<style scoped>\n",
       "    .dataframe tbody tr th:only-of-type {\n",
       "        vertical-align: middle;\n",
       "    }\n",
       "\n",
       "    .dataframe tbody tr th {\n",
       "        vertical-align: top;\n",
       "    }\n",
       "\n",
       "    .dataframe thead th {\n",
       "        text-align: right;\n",
       "    }\n",
       "</style>\n",
       "<table border=\"1\" class=\"dataframe\">\n",
       "  <thead>\n",
       "    <tr style=\"text-align: right;\">\n",
       "      <th></th>\n",
       "      <th>id</th>\n",
       "      <th>name</th>\n",
       "      <th>artist</th>\n",
       "      <th>popularity</th>\n",
       "      <th>duration_ms</th>\n",
       "      <th>year</th>\n",
       "      <th>danceability</th>\n",
       "      <th>energy</th>\n",
       "      <th>key</th>\n",
       "      <th>loudness</th>\n",
       "      <th>mode</th>\n",
       "      <th>speechiness</th>\n",
       "      <th>acousticness</th>\n",
       "      <th>instrumentalness</th>\n",
       "      <th>liveness</th>\n",
       "      <th>valence</th>\n",
       "      <th>tempo</th>\n",
       "    </tr>\n",
       "  </thead>\n",
       "  <tbody>\n",
       "    <tr>\n",
       "      <th>0</th>\n",
       "      <td>14juitXdt9JqvBQAQP3i5L</td>\n",
       "      <td>b'Part Time God'</td>\n",
       "      <td>b'The Bad Dreamers'</td>\n",
       "      <td>32</td>\n",
       "      <td>217683</td>\n",
       "      <td>2018</td>\n",
       "      <td>0.682</td>\n",
       "      <td>0.669</td>\n",
       "      <td>10</td>\n",
       "      <td>-8.068</td>\n",
       "      <td>0</td>\n",
       "      <td>0.0803</td>\n",
       "      <td>0.047100</td>\n",
       "      <td>0.000484</td>\n",
       "      <td>0.2770</td>\n",
       "      <td>0.5480</td>\n",
       "      <td>98.005</td>\n",
       "    </tr>\n",
       "    <tr>\n",
       "      <th>1</th>\n",
       "      <td>6HXVNP9mGsbTKG6ovKLzcH</td>\n",
       "      <td>b'Fringe Society'</td>\n",
       "      <td>b'Sami Matar'</td>\n",
       "      <td>29</td>\n",
       "      <td>222851</td>\n",
       "      <td>2017</td>\n",
       "      <td>0.504</td>\n",
       "      <td>0.294</td>\n",
       "      <td>8</td>\n",
       "      <td>-9.847</td>\n",
       "      <td>1</td>\n",
       "      <td>0.0296</td>\n",
       "      <td>0.000748</td>\n",
       "      <td>0.768000</td>\n",
       "      <td>0.1720</td>\n",
       "      <td>0.0382</td>\n",
       "      <td>80.029</td>\n",
       "    </tr>\n",
       "    <tr>\n",
       "      <th>2</th>\n",
       "      <td>5sPkgogsCQFYKnYZMwkODz</td>\n",
       "      <td>b'The Arcane Arts'</td>\n",
       "      <td>b'Arcis'</td>\n",
       "      <td>26</td>\n",
       "      <td>172109</td>\n",
       "      <td>2017</td>\n",
       "      <td>0.638</td>\n",
       "      <td>0.899</td>\n",
       "      <td>8</td>\n",
       "      <td>-7.013</td>\n",
       "      <td>1</td>\n",
       "      <td>0.0774</td>\n",
       "      <td>0.000100</td>\n",
       "      <td>0.829000</td>\n",
       "      <td>0.1180</td>\n",
       "      <td>0.3430</td>\n",
       "      <td>114.993</td>\n",
       "    </tr>\n",
       "    <tr>\n",
       "      <th>3</th>\n",
       "      <td>4YyG15mMNRqjYCH3S7aBw0</td>\n",
       "      <td>b'Knightriders'</td>\n",
       "      <td>b'Fury Weekend'</td>\n",
       "      <td>31</td>\n",
       "      <td>281379</td>\n",
       "      <td>2017</td>\n",
       "      <td>0.575</td>\n",
       "      <td>0.934</td>\n",
       "      <td>2</td>\n",
       "      <td>-3.641</td>\n",
       "      <td>0</td>\n",
       "      <td>0.0441</td>\n",
       "      <td>0.000026</td>\n",
       "      <td>0.856000</td>\n",
       "      <td>0.1470</td>\n",
       "      <td>0.4750</td>\n",
       "      <td>116.018</td>\n",
       "    </tr>\n",
       "    <tr>\n",
       "      <th>4</th>\n",
       "      <td>0IrEswfPqkHn7iGUoCDPAb</td>\n",
       "      <td>b'WAITING'</td>\n",
       "      <td>b'Kayzo'</td>\n",
       "      <td>21</td>\n",
       "      <td>251200</td>\n",
       "      <td>2018</td>\n",
       "      <td>0.509</td>\n",
       "      <td>0.929</td>\n",
       "      <td>8</td>\n",
       "      <td>-3.023</td>\n",
       "      <td>1</td>\n",
       "      <td>0.1400</td>\n",
       "      <td>0.000990</td>\n",
       "      <td>0.303000</td>\n",
       "      <td>0.0864</td>\n",
       "      <td>0.2270</td>\n",
       "      <td>149.960</td>\n",
       "    </tr>\n",
       "  </tbody>\n",
       "</table>\n",
       "</div>"
      ],
      "text/plain": [
       "                       id                name               artist  \\\n",
       "0  14juitXdt9JqvBQAQP3i5L    b'Part Time God'  b'The Bad Dreamers'   \n",
       "1  6HXVNP9mGsbTKG6ovKLzcH   b'Fringe Society'        b'Sami Matar'   \n",
       "2  5sPkgogsCQFYKnYZMwkODz  b'The Arcane Arts'             b'Arcis'   \n",
       "3  4YyG15mMNRqjYCH3S7aBw0     b'Knightriders'      b'Fury Weekend'   \n",
       "4  0IrEswfPqkHn7iGUoCDPAb          b'WAITING'             b'Kayzo'   \n",
       "\n",
       "   popularity  duration_ms  year  danceability  energy  key  loudness  mode  \\\n",
       "0          32       217683  2018         0.682   0.669   10    -8.068     0   \n",
       "1          29       222851  2017         0.504   0.294    8    -9.847     1   \n",
       "2          26       172109  2017         0.638   0.899    8    -7.013     1   \n",
       "3          31       281379  2017         0.575   0.934    2    -3.641     0   \n",
       "4          21       251200  2018         0.509   0.929    8    -3.023     1   \n",
       "\n",
       "   speechiness  acousticness  instrumentalness  liveness  valence    tempo  \n",
       "0       0.0803      0.047100          0.000484    0.2770   0.5480   98.005  \n",
       "1       0.0296      0.000748          0.768000    0.1720   0.0382   80.029  \n",
       "2       0.0774      0.000100          0.829000    0.1180   0.3430  114.993  \n",
       "3       0.0441      0.000026          0.856000    0.1470   0.4750  116.018  \n",
       "4       0.1400      0.000990          0.303000    0.0864   0.2270  149.960  "
      ]
     },
     "execution_count": 2,
     "metadata": {},
     "output_type": "execute_result"
    }
   ],
   "source": [
    "import pandas as pd\n",
    "import numpy as np\n",
    "\n",
    "from sklearn.cluster import KMeans\n",
    "from sklearn.decomposition import PCA\n",
    "\n",
    "import plotly.express as px \n",
    "\n",
    "## muat dataset\n",
    "data = pd.read_csv('dataset.csv')\n",
    "data.head()"
   ]
  },
  {
   "cell_type": "code",
   "execution_count": 3,
   "metadata": {},
   "outputs": [
    {
     "data": {
      "text/html": [
       "<div>\n",
       "<style scoped>\n",
       "    .dataframe tbody tr th:only-of-type {\n",
       "        vertical-align: middle;\n",
       "    }\n",
       "\n",
       "    .dataframe tbody tr th {\n",
       "        vertical-align: top;\n",
       "    }\n",
       "\n",
       "    .dataframe thead th {\n",
       "        text-align: right;\n",
       "    }\n",
       "</style>\n",
       "<table border=\"1\" class=\"dataframe\">\n",
       "  <thead>\n",
       "    <tr style=\"text-align: right;\">\n",
       "      <th></th>\n",
       "      <th>id</th>\n",
       "      <th>name</th>\n",
       "      <th>artist</th>\n",
       "      <th>popularity</th>\n",
       "      <th>duration_ms</th>\n",
       "      <th>year</th>\n",
       "      <th>danceability</th>\n",
       "      <th>energy</th>\n",
       "      <th>key</th>\n",
       "      <th>loudness</th>\n",
       "      <th>mode</th>\n",
       "      <th>speechiness</th>\n",
       "      <th>acousticness</th>\n",
       "      <th>instrumentalness</th>\n",
       "      <th>liveness</th>\n",
       "      <th>valence</th>\n",
       "      <th>tempo</th>\n",
       "    </tr>\n",
       "  </thead>\n",
       "  <tbody>\n",
       "    <tr>\n",
       "      <th>0</th>\n",
       "      <td>14juitXdt9JqvBQAQP3i5L</td>\n",
       "      <td>Part Time God</td>\n",
       "      <td>The Bad Dreamers</td>\n",
       "      <td>32</td>\n",
       "      <td>217683</td>\n",
       "      <td>2018</td>\n",
       "      <td>0.682</td>\n",
       "      <td>0.669</td>\n",
       "      <td>10</td>\n",
       "      <td>-8.068</td>\n",
       "      <td>0</td>\n",
       "      <td>0.0803</td>\n",
       "      <td>0.047100</td>\n",
       "      <td>0.000484</td>\n",
       "      <td>0.2770</td>\n",
       "      <td>0.5480</td>\n",
       "      <td>98.005</td>\n",
       "    </tr>\n",
       "    <tr>\n",
       "      <th>1</th>\n",
       "      <td>6HXVNP9mGsbTKG6ovKLzcH</td>\n",
       "      <td>Fringe Society</td>\n",
       "      <td>Sami Matar</td>\n",
       "      <td>29</td>\n",
       "      <td>222851</td>\n",
       "      <td>2017</td>\n",
       "      <td>0.504</td>\n",
       "      <td>0.294</td>\n",
       "      <td>8</td>\n",
       "      <td>-9.847</td>\n",
       "      <td>1</td>\n",
       "      <td>0.0296</td>\n",
       "      <td>0.000748</td>\n",
       "      <td>0.768000</td>\n",
       "      <td>0.1720</td>\n",
       "      <td>0.0382</td>\n",
       "      <td>80.029</td>\n",
       "    </tr>\n",
       "    <tr>\n",
       "      <th>2</th>\n",
       "      <td>5sPkgogsCQFYKnYZMwkODz</td>\n",
       "      <td>The Arcane Arts</td>\n",
       "      <td>Arcis</td>\n",
       "      <td>26</td>\n",
       "      <td>172109</td>\n",
       "      <td>2017</td>\n",
       "      <td>0.638</td>\n",
       "      <td>0.899</td>\n",
       "      <td>8</td>\n",
       "      <td>-7.013</td>\n",
       "      <td>1</td>\n",
       "      <td>0.0774</td>\n",
       "      <td>0.000100</td>\n",
       "      <td>0.829000</td>\n",
       "      <td>0.1180</td>\n",
       "      <td>0.3430</td>\n",
       "      <td>114.993</td>\n",
       "    </tr>\n",
       "    <tr>\n",
       "      <th>3</th>\n",
       "      <td>4YyG15mMNRqjYCH3S7aBw0</td>\n",
       "      <td>Knightriders</td>\n",
       "      <td>Fury Weekend</td>\n",
       "      <td>31</td>\n",
       "      <td>281379</td>\n",
       "      <td>2017</td>\n",
       "      <td>0.575</td>\n",
       "      <td>0.934</td>\n",
       "      <td>2</td>\n",
       "      <td>-3.641</td>\n",
       "      <td>0</td>\n",
       "      <td>0.0441</td>\n",
       "      <td>0.000026</td>\n",
       "      <td>0.856000</td>\n",
       "      <td>0.1470</td>\n",
       "      <td>0.4750</td>\n",
       "      <td>116.018</td>\n",
       "    </tr>\n",
       "    <tr>\n",
       "      <th>4</th>\n",
       "      <td>0IrEswfPqkHn7iGUoCDPAb</td>\n",
       "      <td>WAITING</td>\n",
       "      <td>Kayzo</td>\n",
       "      <td>21</td>\n",
       "      <td>251200</td>\n",
       "      <td>2018</td>\n",
       "      <td>0.509</td>\n",
       "      <td>0.929</td>\n",
       "      <td>8</td>\n",
       "      <td>-3.023</td>\n",
       "      <td>1</td>\n",
       "      <td>0.1400</td>\n",
       "      <td>0.000990</td>\n",
       "      <td>0.303000</td>\n",
       "      <td>0.0864</td>\n",
       "      <td>0.2270</td>\n",
       "      <td>149.960</td>\n",
       "    </tr>\n",
       "  </tbody>\n",
       "</table>\n",
       "</div>"
      ],
      "text/plain": [
       "                       id             name            artist  popularity  \\\n",
       "0  14juitXdt9JqvBQAQP3i5L    Part Time God  The Bad Dreamers          32   \n",
       "1  6HXVNP9mGsbTKG6ovKLzcH   Fringe Society        Sami Matar          29   \n",
       "2  5sPkgogsCQFYKnYZMwkODz  The Arcane Arts             Arcis          26   \n",
       "3  4YyG15mMNRqjYCH3S7aBw0     Knightriders      Fury Weekend          31   \n",
       "4  0IrEswfPqkHn7iGUoCDPAb          WAITING             Kayzo          21   \n",
       "\n",
       "   duration_ms  year  danceability  energy  key  loudness  mode  speechiness  \\\n",
       "0       217683  2018         0.682   0.669   10    -8.068     0       0.0803   \n",
       "1       222851  2017         0.504   0.294    8    -9.847     1       0.0296   \n",
       "2       172109  2017         0.638   0.899    8    -7.013     1       0.0774   \n",
       "3       281379  2017         0.575   0.934    2    -3.641     0       0.0441   \n",
       "4       251200  2018         0.509   0.929    8    -3.023     1       0.1400   \n",
       "\n",
       "   acousticness  instrumentalness  liveness  valence    tempo  \n",
       "0      0.047100          0.000484    0.2770   0.5480   98.005  \n",
       "1      0.000748          0.768000    0.1720   0.0382   80.029  \n",
       "2      0.000100          0.829000    0.1180   0.3430  114.993  \n",
       "3      0.000026          0.856000    0.1470   0.4750  116.018  \n",
       "4      0.000990          0.303000    0.0864   0.2270  149.960  "
      ]
     },
     "execution_count": 3,
     "metadata": {},
     "output_type": "execute_result"
    }
   ],
   "source": [
    "## Hapus karakter yang tidak perlu pada kolom artist dan name\n",
    "data['artist'] = data['artist'].map(lambda x: str(x)[2:-1])\n",
    "data['name'] = data['name'].map(lambda x: str(x)[2:-1])\n",
    "\n",
    "data.head()"
   ]
  },
  {
   "cell_type": "code",
   "execution_count": 4,
   "metadata": {},
   "outputs": [
    {
     "data": {
      "text/html": [
       "<div>\n",
       "<style scoped>\n",
       "    .dataframe tbody tr th:only-of-type {\n",
       "        vertical-align: middle;\n",
       "    }\n",
       "\n",
       "    .dataframe tbody tr th {\n",
       "        vertical-align: top;\n",
       "    }\n",
       "\n",
       "    .dataframe thead th {\n",
       "        text-align: right;\n",
       "    }\n",
       "</style>\n",
       "<table border=\"1\" class=\"dataframe\">\n",
       "  <thead>\n",
       "    <tr style=\"text-align: right;\">\n",
       "      <th></th>\n",
       "      <th>id</th>\n",
       "      <th>name</th>\n",
       "      <th>artist</th>\n",
       "      <th>popularity</th>\n",
       "      <th>duration_ms</th>\n",
       "      <th>year</th>\n",
       "      <th>danceability</th>\n",
       "      <th>energy</th>\n",
       "      <th>key</th>\n",
       "      <th>loudness</th>\n",
       "      <th>mode</th>\n",
       "      <th>speechiness</th>\n",
       "      <th>acousticness</th>\n",
       "      <th>instrumentalness</th>\n",
       "      <th>liveness</th>\n",
       "      <th>valence</th>\n",
       "      <th>tempo</th>\n",
       "    </tr>\n",
       "  </thead>\n",
       "  <tbody>\n",
       "    <tr>\n",
       "      <th>0</th>\n",
       "      <td>14juitXdt9JqvBQAQP3i5L</td>\n",
       "      <td>Part Time God</td>\n",
       "      <td>The Bad Dreamers</td>\n",
       "      <td>32</td>\n",
       "      <td>217683</td>\n",
       "      <td>2018</td>\n",
       "      <td>0.682</td>\n",
       "      <td>0.669</td>\n",
       "      <td>10</td>\n",
       "      <td>-8.068</td>\n",
       "      <td>0</td>\n",
       "      <td>0.0803</td>\n",
       "      <td>0.047100</td>\n",
       "      <td>0.000484</td>\n",
       "      <td>0.2770</td>\n",
       "      <td>0.5480</td>\n",
       "      <td>98.005</td>\n",
       "    </tr>\n",
       "    <tr>\n",
       "      <th>1</th>\n",
       "      <td>6HXVNP9mGsbTKG6ovKLzcH</td>\n",
       "      <td>Fringe Society</td>\n",
       "      <td>Sami Matar</td>\n",
       "      <td>29</td>\n",
       "      <td>222851</td>\n",
       "      <td>2017</td>\n",
       "      <td>0.504</td>\n",
       "      <td>0.294</td>\n",
       "      <td>8</td>\n",
       "      <td>-9.847</td>\n",
       "      <td>1</td>\n",
       "      <td>0.0296</td>\n",
       "      <td>0.000748</td>\n",
       "      <td>0.768000</td>\n",
       "      <td>0.1720</td>\n",
       "      <td>0.0382</td>\n",
       "      <td>80.029</td>\n",
       "    </tr>\n",
       "    <tr>\n",
       "      <th>2</th>\n",
       "      <td>5sPkgogsCQFYKnYZMwkODz</td>\n",
       "      <td>The Arcane Arts</td>\n",
       "      <td>Arcis</td>\n",
       "      <td>26</td>\n",
       "      <td>172109</td>\n",
       "      <td>2017</td>\n",
       "      <td>0.638</td>\n",
       "      <td>0.899</td>\n",
       "      <td>8</td>\n",
       "      <td>-7.013</td>\n",
       "      <td>1</td>\n",
       "      <td>0.0774</td>\n",
       "      <td>0.000100</td>\n",
       "      <td>0.829000</td>\n",
       "      <td>0.1180</td>\n",
       "      <td>0.3430</td>\n",
       "      <td>114.993</td>\n",
       "    </tr>\n",
       "    <tr>\n",
       "      <th>3</th>\n",
       "      <td>4YyG15mMNRqjYCH3S7aBw0</td>\n",
       "      <td>Knightriders</td>\n",
       "      <td>Fury Weekend</td>\n",
       "      <td>31</td>\n",
       "      <td>281379</td>\n",
       "      <td>2017</td>\n",
       "      <td>0.575</td>\n",
       "      <td>0.934</td>\n",
       "      <td>2</td>\n",
       "      <td>-3.641</td>\n",
       "      <td>0</td>\n",
       "      <td>0.0441</td>\n",
       "      <td>0.000026</td>\n",
       "      <td>0.856000</td>\n",
       "      <td>0.1470</td>\n",
       "      <td>0.4750</td>\n",
       "      <td>116.018</td>\n",
       "    </tr>\n",
       "    <tr>\n",
       "      <th>4</th>\n",
       "      <td>0IrEswfPqkHn7iGUoCDPAb</td>\n",
       "      <td>WAITING</td>\n",
       "      <td>Kayzo</td>\n",
       "      <td>21</td>\n",
       "      <td>251200</td>\n",
       "      <td>2018</td>\n",
       "      <td>0.509</td>\n",
       "      <td>0.929</td>\n",
       "      <td>8</td>\n",
       "      <td>-3.023</td>\n",
       "      <td>1</td>\n",
       "      <td>0.1400</td>\n",
       "      <td>0.000990</td>\n",
       "      <td>0.303000</td>\n",
       "      <td>0.0864</td>\n",
       "      <td>0.2270</td>\n",
       "      <td>149.960</td>\n",
       "    </tr>\n",
       "  </tbody>\n",
       "</table>\n",
       "</div>"
      ],
      "text/plain": [
       "                       id             name            artist  popularity  \\\n",
       "0  14juitXdt9JqvBQAQP3i5L    Part Time God  The Bad Dreamers          32   \n",
       "1  6HXVNP9mGsbTKG6ovKLzcH   Fringe Society        Sami Matar          29   \n",
       "2  5sPkgogsCQFYKnYZMwkODz  The Arcane Arts             Arcis          26   \n",
       "3  4YyG15mMNRqjYCH3S7aBw0     Knightriders      Fury Weekend          31   \n",
       "4  0IrEswfPqkHn7iGUoCDPAb          WAITING             Kayzo          21   \n",
       "\n",
       "   duration_ms  year  danceability  energy  key  loudness  mode  speechiness  \\\n",
       "0       217683  2018         0.682   0.669   10    -8.068     0       0.0803   \n",
       "1       222851  2017         0.504   0.294    8    -9.847     1       0.0296   \n",
       "2       172109  2017         0.638   0.899    8    -7.013     1       0.0774   \n",
       "3       281379  2017         0.575   0.934    2    -3.641     0       0.0441   \n",
       "4       251200  2018         0.509   0.929    8    -3.023     1       0.1400   \n",
       "\n",
       "   acousticness  instrumentalness  liveness  valence    tempo  \n",
       "0      0.047100          0.000484    0.2770   0.5480   98.005  \n",
       "1      0.000748          0.768000    0.1720   0.0382   80.029  \n",
       "2      0.000100          0.829000    0.1180   0.3430  114.993  \n",
       "3      0.000026          0.856000    0.1470   0.4750  116.018  \n",
       "4      0.000990          0.303000    0.0864   0.2270  149.960  "
      ]
     },
     "execution_count": 4,
     "metadata": {},
     "output_type": "execute_result"
    }
   ],
   "source": [
    "##delete empty string in name column\n",
    "data = data[data['name'] != '']\n",
    "\n",
    "##reset index\n",
    "data = data.reset_index(drop=True)\n",
    "data.head()"
   ]
  },
  {
   "cell_type": "code",
   "execution_count": 5,
   "metadata": {},
   "outputs": [
    {
     "data": {
      "text/html": [
       "<div>\n",
       "<style scoped>\n",
       "    .dataframe tbody tr th:only-of-type {\n",
       "        vertical-align: middle;\n",
       "    }\n",
       "\n",
       "    .dataframe tbody tr th {\n",
       "        vertical-align: top;\n",
       "    }\n",
       "\n",
       "    .dataframe thead th {\n",
       "        text-align: right;\n",
       "    }\n",
       "</style>\n",
       "<table border=\"1\" class=\"dataframe\">\n",
       "  <thead>\n",
       "    <tr style=\"text-align: right;\">\n",
       "      <th></th>\n",
       "      <th>danceability</th>\n",
       "      <th>energy</th>\n",
       "      <th>loudness</th>\n",
       "      <th>speechiness</th>\n",
       "      <th>acousticness</th>\n",
       "      <th>instrumentalness</th>\n",
       "      <th>liveness</th>\n",
       "      <th>valence</th>\n",
       "      <th>tempo</th>\n",
       "    </tr>\n",
       "  </thead>\n",
       "  <tbody>\n",
       "    <tr>\n",
       "      <th>0</th>\n",
       "      <td>0.682</td>\n",
       "      <td>0.669</td>\n",
       "      <td>-8.068</td>\n",
       "      <td>0.0803</td>\n",
       "      <td>0.047100</td>\n",
       "      <td>0.000484</td>\n",
       "      <td>0.2770</td>\n",
       "      <td>0.5480</td>\n",
       "      <td>98.005</td>\n",
       "    </tr>\n",
       "    <tr>\n",
       "      <th>1</th>\n",
       "      <td>0.504</td>\n",
       "      <td>0.294</td>\n",
       "      <td>-9.847</td>\n",
       "      <td>0.0296</td>\n",
       "      <td>0.000748</td>\n",
       "      <td>0.768000</td>\n",
       "      <td>0.1720</td>\n",
       "      <td>0.0382</td>\n",
       "      <td>80.029</td>\n",
       "    </tr>\n",
       "    <tr>\n",
       "      <th>2</th>\n",
       "      <td>0.638</td>\n",
       "      <td>0.899</td>\n",
       "      <td>-7.013</td>\n",
       "      <td>0.0774</td>\n",
       "      <td>0.000100</td>\n",
       "      <td>0.829000</td>\n",
       "      <td>0.1180</td>\n",
       "      <td>0.3430</td>\n",
       "      <td>114.993</td>\n",
       "    </tr>\n",
       "    <tr>\n",
       "      <th>3</th>\n",
       "      <td>0.575</td>\n",
       "      <td>0.934</td>\n",
       "      <td>-3.641</td>\n",
       "      <td>0.0441</td>\n",
       "      <td>0.000026</td>\n",
       "      <td>0.856000</td>\n",
       "      <td>0.1470</td>\n",
       "      <td>0.4750</td>\n",
       "      <td>116.018</td>\n",
       "    </tr>\n",
       "    <tr>\n",
       "      <th>4</th>\n",
       "      <td>0.509</td>\n",
       "      <td>0.929</td>\n",
       "      <td>-3.023</td>\n",
       "      <td>0.1400</td>\n",
       "      <td>0.000990</td>\n",
       "      <td>0.303000</td>\n",
       "      <td>0.0864</td>\n",
       "      <td>0.2270</td>\n",
       "      <td>149.960</td>\n",
       "    </tr>\n",
       "  </tbody>\n",
       "</table>\n",
       "</div>"
      ],
      "text/plain": [
       "   danceability  energy  loudness  speechiness  acousticness  \\\n",
       "0         0.682   0.669    -8.068       0.0803      0.047100   \n",
       "1         0.504   0.294    -9.847       0.0296      0.000748   \n",
       "2         0.638   0.899    -7.013       0.0774      0.000100   \n",
       "3         0.575   0.934    -3.641       0.0441      0.000026   \n",
       "4         0.509   0.929    -3.023       0.1400      0.000990   \n",
       "\n",
       "   instrumentalness  liveness  valence    tempo  \n",
       "0          0.000484    0.2770   0.5480   98.005  \n",
       "1          0.768000    0.1720   0.0382   80.029  \n",
       "2          0.829000    0.1180   0.3430  114.993  \n",
       "3          0.856000    0.1470   0.4750  116.018  \n",
       "4          0.303000    0.0864   0.2270  149.960  "
      ]
     },
     "execution_count": 5,
     "metadata": {},
     "output_type": "execute_result"
    }
   ],
   "source": [
    "## drop name artist and year column\n",
    "data2 = data.copy()\n",
    "data2 = data2.drop(['artist', 'name', 'year', 'popularity', 'key','duration_ms', 'mode', 'id'], axis=1)\n",
    "\n",
    "data2.head()"
   ]
  },
  {
   "cell_type": "code",
   "execution_count": 6,
   "metadata": {},
   "outputs": [
    {
     "data": {
      "text/html": [
       "<div>\n",
       "<style scoped>\n",
       "    .dataframe tbody tr th:only-of-type {\n",
       "        vertical-align: middle;\n",
       "    }\n",
       "\n",
       "    .dataframe tbody tr th {\n",
       "        vertical-align: top;\n",
       "    }\n",
       "\n",
       "    .dataframe thead th {\n",
       "        text-align: right;\n",
       "    }\n",
       "</style>\n",
       "<table border=\"1\" class=\"dataframe\">\n",
       "  <thead>\n",
       "    <tr style=\"text-align: right;\">\n",
       "      <th></th>\n",
       "      <th>acousticness</th>\n",
       "      <th>danceability</th>\n",
       "      <th>energy</th>\n",
       "      <th>instrumentalness</th>\n",
       "      <th>loudness</th>\n",
       "      <th>liveness</th>\n",
       "      <th>speechiness</th>\n",
       "      <th>tempo</th>\n",
       "      <th>valence</th>\n",
       "    </tr>\n",
       "  </thead>\n",
       "  <tbody>\n",
       "    <tr>\n",
       "      <th>count</th>\n",
       "      <td>57.000000</td>\n",
       "      <td>57.000000</td>\n",
       "      <td>57.000000</td>\n",
       "      <td>57.000000</td>\n",
       "      <td>57.000000</td>\n",
       "      <td>57.000000</td>\n",
       "      <td>57.000000</td>\n",
       "      <td>57.000000</td>\n",
       "      <td>57.000000</td>\n",
       "    </tr>\n",
       "    <tr>\n",
       "      <th>mean</th>\n",
       "      <td>0.587812</td>\n",
       "      <td>0.730803</td>\n",
       "      <td>0.755247</td>\n",
       "      <td>0.106044</td>\n",
       "      <td>0.090902</td>\n",
       "      <td>0.404777</td>\n",
       "      <td>0.241488</td>\n",
       "      <td>0.397805</td>\n",
       "      <td>0.452097</td>\n",
       "    </tr>\n",
       "    <tr>\n",
       "      <th>std</th>\n",
       "      <td>0.249768</td>\n",
       "      <td>0.241094</td>\n",
       "      <td>0.159867</td>\n",
       "      <td>0.163753</td>\n",
       "      <td>0.181729</td>\n",
       "      <td>0.412961</td>\n",
       "      <td>0.220628</td>\n",
       "      <td>0.267592</td>\n",
       "      <td>0.248684</td>\n",
       "    </tr>\n",
       "    <tr>\n",
       "      <th>min</th>\n",
       "      <td>0.000000</td>\n",
       "      <td>0.000000</td>\n",
       "      <td>0.000000</td>\n",
       "      <td>0.000000</td>\n",
       "      <td>0.000000</td>\n",
       "      <td>0.000000</td>\n",
       "      <td>0.000000</td>\n",
       "      <td>0.000000</td>\n",
       "      <td>0.000000</td>\n",
       "    </tr>\n",
       "    <tr>\n",
       "      <th>25%</th>\n",
       "      <td>0.431579</td>\n",
       "      <td>0.608819</td>\n",
       "      <td>0.672394</td>\n",
       "      <td>0.023267</td>\n",
       "      <td>0.001053</td>\n",
       "      <td>0.000353</td>\n",
       "      <td>0.081462</td>\n",
       "      <td>0.193395</td>\n",
       "      <td>0.299444</td>\n",
       "    </tr>\n",
       "    <tr>\n",
       "      <th>50%</th>\n",
       "      <td>0.659649</td>\n",
       "      <td>0.799431</td>\n",
       "      <td>0.773321</td>\n",
       "      <td>0.044992</td>\n",
       "      <td>0.005531</td>\n",
       "      <td>0.312693</td>\n",
       "      <td>0.168622</td>\n",
       "      <td>0.333571</td>\n",
       "      <td>0.399023</td>\n",
       "    </tr>\n",
       "    <tr>\n",
       "      <th>75%</th>\n",
       "      <td>0.801754</td>\n",
       "      <td>0.910384</td>\n",
       "      <td>0.856382</td>\n",
       "      <td>0.118644</td>\n",
       "      <td>0.111099</td>\n",
       "      <td>0.867905</td>\n",
       "      <td>0.389876</td>\n",
       "      <td>0.593728</td>\n",
       "      <td>0.583046</td>\n",
       "    </tr>\n",
       "    <tr>\n",
       "      <th>max</th>\n",
       "      <td>1.000000</td>\n",
       "      <td>1.000000</td>\n",
       "      <td>1.000000</td>\n",
       "      <td>1.000000</td>\n",
       "      <td>1.000000</td>\n",
       "      <td>1.000000</td>\n",
       "      <td>1.000000</td>\n",
       "      <td>1.000000</td>\n",
       "      <td>1.000000</td>\n",
       "    </tr>\n",
       "  </tbody>\n",
       "</table>\n",
       "</div>"
      ],
      "text/plain": [
       "       acousticness  danceability     energy  instrumentalness   loudness  \\\n",
       "count     57.000000     57.000000  57.000000         57.000000  57.000000   \n",
       "mean       0.587812      0.730803   0.755247          0.106044   0.090902   \n",
       "std        0.249768      0.241094   0.159867          0.163753   0.181729   \n",
       "min        0.000000      0.000000   0.000000          0.000000   0.000000   \n",
       "25%        0.431579      0.608819   0.672394          0.023267   0.001053   \n",
       "50%        0.659649      0.799431   0.773321          0.044992   0.005531   \n",
       "75%        0.801754      0.910384   0.856382          0.118644   0.111099   \n",
       "max        1.000000      1.000000   1.000000          1.000000   1.000000   \n",
       "\n",
       "        liveness  speechiness      tempo    valence  \n",
       "count  57.000000    57.000000  57.000000  57.000000  \n",
       "mean    0.404777     0.241488   0.397805   0.452097  \n",
       "std     0.412961     0.220628   0.267592   0.248684  \n",
       "min     0.000000     0.000000   0.000000   0.000000  \n",
       "25%     0.000353     0.081462   0.193395   0.299444  \n",
       "50%     0.312693     0.168622   0.333571   0.399023  \n",
       "75%     0.867905     0.389876   0.593728   0.583046  \n",
       "max     1.000000     1.000000   1.000000   1.000000  "
      ]
     },
     "execution_count": 6,
     "metadata": {},
     "output_type": "execute_result"
    }
   ],
   "source": [
    "from sklearn import preprocessing\n",
    "\n",
    "## normalize all data to 0 and 1\n",
    "x = data2.values ##returns a numpy array\n",
    "min_max_scaler = preprocessing.MinMaxScaler()\n",
    "x_scaled = min_max_scaler.fit_transform(x)\n",
    "data2 = pd.DataFrame(x_scaled)\n",
    "\n",
    "## convert to dataframe\n",
    "data2.columns = ['acousticness','danceability','energy','instrumentalness','loudness', 'liveness', 'speechiness', 'tempo','valence']\n",
    "\n",
    "## data2.head()\n",
    "data2.describe()"
   ]
  },
  {
   "cell_type": "code",
   "execution_count": 7,
   "metadata": {},
   "outputs": [
    {
     "data": {
      "application/vnd.plotly.v1+json": {
       "config": {
        "plotlyServerURL": "https://plot.ly"
       },
       "data": [
        {
         "hovertemplate": "x=%{x}<br>y=%{y}<extra></extra>",
         "legendgroup": "",
         "marker": {
          "color": "#636efa",
          "symbol": "circle"
         },
         "mode": "markers",
         "name": "",
         "orientation": "v",
         "showlegend": false,
         "type": "scatter",
         "x": [
          -0.45746451733964444,
          0.5771148583949477,
          0.40145336493782935,
          0.37338379439627295,
          -0.03397597971847407,
          -0.3761105075673755,
          -0.5143812405477317,
          0.6109625911386686,
          -0.5956455683124244,
          -0.5449742945382969,
          -0.347448262505084,
          -0.5233015131309816,
          -0.4835659426503919,
          -0.33182222880930523,
          -0.46565918311003407,
          -0.26961384590112153,
          -0.29394495182618924,
          0.6062458096978907,
          -0.017570522880878424,
          0.5028873439895963,
          -0.3726770370061626,
          0.6868633635603529,
          0.3191184698246479,
          -0.14942323910566785,
          -0.189943504183947,
          -0.4195211214669875,
          0.7083485782229327,
          0.7776603347427817,
          0.31585969825514915,
          -0.5192058482427255,
          0.512893818174186,
          0.32140857625859504,
          -0.07862783861646627,
          0.49496171442501646,
          0.3936023332735602,
          -0.31446903375436075,
          -0.2682641425616259,
          -0.3372375190613769,
          -0.3943076559781005,
          -0.3601187989805816,
          -0.3871022141994477,
          -0.36765237653939153,
          0.6020330054945771,
          0.30755622303279795,
          0.4886781072592834,
          0.49793708216370397,
          0.46676069981669616,
          -0.32979487993812895,
          0.5662732008240947,
          0.048146603674939586,
          -0.5656576567609496,
          -0.45642186578550725,
          0.23791131084262446,
          -0.4224712837394805,
          0.26974490931518524,
          0.4621043154232086,
          -0.3615355323806926
         ],
         "xaxis": "x",
         "y": [
          -0.3542818021146472,
          -0.5938215937439816,
          -0.14131006623218184,
          -0.03791791602165179,
          0.25190402328363326,
          -0.22340462919585374,
          -0.11866489199862973,
          0.5685257315226296,
          -0.3832780695678385,
          0.3914732452828087,
          -0.2446711183942805,
          -0.3481683299872522,
          -0.106894523928456,
          0.030176337329838154,
          -0.23705610993994172,
          -0.10086806880046523,
          -0.09290373083640424,
          -0.21974241961314395,
          -0.23796344611087888,
          -0.0826382194277181,
          0.04025871305142703,
          -0.09641666961506329,
          0.8121581648036976,
          -0.10361216456022082,
          -0.15021518596209943,
          0.5364437629068418,
          0.08734074721434693,
          -0.4012554104240355,
          -0.12336570194830154,
          -0.36899014116829815,
          0.3473345818677861,
          0.5657469097790216,
          0.1304066726831694,
          0.35631229523563135,
          -0.4164815867955279,
          0.032213044003900126,
          0.2812479569384059,
          -0.16828492346728358,
          0.48250490265342416,
          -0.2748823822294115,
          -0.017638142647175836,
          -0.13157958982967788,
          0.25949070712892575,
          0.020109915882784657,
          0.16360423872685537,
          -0.7919290539435091,
          -0.30916489160926885,
          0.6335331331365305,
          0.06646938150030124,
          0.4443878794673619,
          -0.24517997633562522,
          0.2020464234330155,
          -0.4026002635184137,
          0.4711115798260177,
          0.33151580770292277,
          -0.16412039720559107,
          0.18298526181154928
         ],
         "yaxis": "y"
        }
       ],
       "layout": {
        "legend": {
         "tracegroupgap": 0
        },
        "template": {
         "data": {
          "bar": [
           {
            "error_x": {
             "color": "#2a3f5f"
            },
            "error_y": {
             "color": "#2a3f5f"
            },
            "marker": {
             "line": {
              "color": "#E5ECF6",
              "width": 0.5
             },
             "pattern": {
              "fillmode": "overlay",
              "size": 10,
              "solidity": 0.2
             }
            },
            "type": "bar"
           }
          ],
          "barpolar": [
           {
            "marker": {
             "line": {
              "color": "#E5ECF6",
              "width": 0.5
             },
             "pattern": {
              "fillmode": "overlay",
              "size": 10,
              "solidity": 0.2
             }
            },
            "type": "barpolar"
           }
          ],
          "carpet": [
           {
            "aaxis": {
             "endlinecolor": "#2a3f5f",
             "gridcolor": "white",
             "linecolor": "white",
             "minorgridcolor": "white",
             "startlinecolor": "#2a3f5f"
            },
            "baxis": {
             "endlinecolor": "#2a3f5f",
             "gridcolor": "white",
             "linecolor": "white",
             "minorgridcolor": "white",
             "startlinecolor": "#2a3f5f"
            },
            "type": "carpet"
           }
          ],
          "choropleth": [
           {
            "colorbar": {
             "outlinewidth": 0,
             "ticks": ""
            },
            "type": "choropleth"
           }
          ],
          "contour": [
           {
            "colorbar": {
             "outlinewidth": 0,
             "ticks": ""
            },
            "colorscale": [
             [
              0,
              "#0d0887"
             ],
             [
              0.1111111111111111,
              "#46039f"
             ],
             [
              0.2222222222222222,
              "#7201a8"
             ],
             [
              0.3333333333333333,
              "#9c179e"
             ],
             [
              0.4444444444444444,
              "#bd3786"
             ],
             [
              0.5555555555555556,
              "#d8576b"
             ],
             [
              0.6666666666666666,
              "#ed7953"
             ],
             [
              0.7777777777777778,
              "#fb9f3a"
             ],
             [
              0.8888888888888888,
              "#fdca26"
             ],
             [
              1,
              "#f0f921"
             ]
            ],
            "type": "contour"
           }
          ],
          "contourcarpet": [
           {
            "colorbar": {
             "outlinewidth": 0,
             "ticks": ""
            },
            "type": "contourcarpet"
           }
          ],
          "heatmap": [
           {
            "colorbar": {
             "outlinewidth": 0,
             "ticks": ""
            },
            "colorscale": [
             [
              0,
              "#0d0887"
             ],
             [
              0.1111111111111111,
              "#46039f"
             ],
             [
              0.2222222222222222,
              "#7201a8"
             ],
             [
              0.3333333333333333,
              "#9c179e"
             ],
             [
              0.4444444444444444,
              "#bd3786"
             ],
             [
              0.5555555555555556,
              "#d8576b"
             ],
             [
              0.6666666666666666,
              "#ed7953"
             ],
             [
              0.7777777777777778,
              "#fb9f3a"
             ],
             [
              0.8888888888888888,
              "#fdca26"
             ],
             [
              1,
              "#f0f921"
             ]
            ],
            "type": "heatmap"
           }
          ],
          "heatmapgl": [
           {
            "colorbar": {
             "outlinewidth": 0,
             "ticks": ""
            },
            "colorscale": [
             [
              0,
              "#0d0887"
             ],
             [
              0.1111111111111111,
              "#46039f"
             ],
             [
              0.2222222222222222,
              "#7201a8"
             ],
             [
              0.3333333333333333,
              "#9c179e"
             ],
             [
              0.4444444444444444,
              "#bd3786"
             ],
             [
              0.5555555555555556,
              "#d8576b"
             ],
             [
              0.6666666666666666,
              "#ed7953"
             ],
             [
              0.7777777777777778,
              "#fb9f3a"
             ],
             [
              0.8888888888888888,
              "#fdca26"
             ],
             [
              1,
              "#f0f921"
             ]
            ],
            "type": "heatmapgl"
           }
          ],
          "histogram": [
           {
            "marker": {
             "pattern": {
              "fillmode": "overlay",
              "size": 10,
              "solidity": 0.2
             }
            },
            "type": "histogram"
           }
          ],
          "histogram2d": [
           {
            "colorbar": {
             "outlinewidth": 0,
             "ticks": ""
            },
            "colorscale": [
             [
              0,
              "#0d0887"
             ],
             [
              0.1111111111111111,
              "#46039f"
             ],
             [
              0.2222222222222222,
              "#7201a8"
             ],
             [
              0.3333333333333333,
              "#9c179e"
             ],
             [
              0.4444444444444444,
              "#bd3786"
             ],
             [
              0.5555555555555556,
              "#d8576b"
             ],
             [
              0.6666666666666666,
              "#ed7953"
             ],
             [
              0.7777777777777778,
              "#fb9f3a"
             ],
             [
              0.8888888888888888,
              "#fdca26"
             ],
             [
              1,
              "#f0f921"
             ]
            ],
            "type": "histogram2d"
           }
          ],
          "histogram2dcontour": [
           {
            "colorbar": {
             "outlinewidth": 0,
             "ticks": ""
            },
            "colorscale": [
             [
              0,
              "#0d0887"
             ],
             [
              0.1111111111111111,
              "#46039f"
             ],
             [
              0.2222222222222222,
              "#7201a8"
             ],
             [
              0.3333333333333333,
              "#9c179e"
             ],
             [
              0.4444444444444444,
              "#bd3786"
             ],
             [
              0.5555555555555556,
              "#d8576b"
             ],
             [
              0.6666666666666666,
              "#ed7953"
             ],
             [
              0.7777777777777778,
              "#fb9f3a"
             ],
             [
              0.8888888888888888,
              "#fdca26"
             ],
             [
              1,
              "#f0f921"
             ]
            ],
            "type": "histogram2dcontour"
           }
          ],
          "mesh3d": [
           {
            "colorbar": {
             "outlinewidth": 0,
             "ticks": ""
            },
            "type": "mesh3d"
           }
          ],
          "parcoords": [
           {
            "line": {
             "colorbar": {
              "outlinewidth": 0,
              "ticks": ""
             }
            },
            "type": "parcoords"
           }
          ],
          "pie": [
           {
            "automargin": true,
            "type": "pie"
           }
          ],
          "scatter": [
           {
            "fillpattern": {
             "fillmode": "overlay",
             "size": 10,
             "solidity": 0.2
            },
            "type": "scatter"
           }
          ],
          "scatter3d": [
           {
            "line": {
             "colorbar": {
              "outlinewidth": 0,
              "ticks": ""
             }
            },
            "marker": {
             "colorbar": {
              "outlinewidth": 0,
              "ticks": ""
             }
            },
            "type": "scatter3d"
           }
          ],
          "scattercarpet": [
           {
            "marker": {
             "colorbar": {
              "outlinewidth": 0,
              "ticks": ""
             }
            },
            "type": "scattercarpet"
           }
          ],
          "scattergeo": [
           {
            "marker": {
             "colorbar": {
              "outlinewidth": 0,
              "ticks": ""
             }
            },
            "type": "scattergeo"
           }
          ],
          "scattergl": [
           {
            "marker": {
             "colorbar": {
              "outlinewidth": 0,
              "ticks": ""
             }
            },
            "type": "scattergl"
           }
          ],
          "scattermapbox": [
           {
            "marker": {
             "colorbar": {
              "outlinewidth": 0,
              "ticks": ""
             }
            },
            "type": "scattermapbox"
           }
          ],
          "scatterpolar": [
           {
            "marker": {
             "colorbar": {
              "outlinewidth": 0,
              "ticks": ""
             }
            },
            "type": "scatterpolar"
           }
          ],
          "scatterpolargl": [
           {
            "marker": {
             "colorbar": {
              "outlinewidth": 0,
              "ticks": ""
             }
            },
            "type": "scatterpolargl"
           }
          ],
          "scatterternary": [
           {
            "marker": {
             "colorbar": {
              "outlinewidth": 0,
              "ticks": ""
             }
            },
            "type": "scatterternary"
           }
          ],
          "surface": [
           {
            "colorbar": {
             "outlinewidth": 0,
             "ticks": ""
            },
            "colorscale": [
             [
              0,
              "#0d0887"
             ],
             [
              0.1111111111111111,
              "#46039f"
             ],
             [
              0.2222222222222222,
              "#7201a8"
             ],
             [
              0.3333333333333333,
              "#9c179e"
             ],
             [
              0.4444444444444444,
              "#bd3786"
             ],
             [
              0.5555555555555556,
              "#d8576b"
             ],
             [
              0.6666666666666666,
              "#ed7953"
             ],
             [
              0.7777777777777778,
              "#fb9f3a"
             ],
             [
              0.8888888888888888,
              "#fdca26"
             ],
             [
              1,
              "#f0f921"
             ]
            ],
            "type": "surface"
           }
          ],
          "table": [
           {
            "cells": {
             "fill": {
              "color": "#EBF0F8"
             },
             "line": {
              "color": "white"
             }
            },
            "header": {
             "fill": {
              "color": "#C8D4E3"
             },
             "line": {
              "color": "white"
             }
            },
            "type": "table"
           }
          ]
         },
         "layout": {
          "annotationdefaults": {
           "arrowcolor": "#2a3f5f",
           "arrowhead": 0,
           "arrowwidth": 1
          },
          "autotypenumbers": "strict",
          "coloraxis": {
           "colorbar": {
            "outlinewidth": 0,
            "ticks": ""
           }
          },
          "colorscale": {
           "diverging": [
            [
             0,
             "#8e0152"
            ],
            [
             0.1,
             "#c51b7d"
            ],
            [
             0.2,
             "#de77ae"
            ],
            [
             0.3,
             "#f1b6da"
            ],
            [
             0.4,
             "#fde0ef"
            ],
            [
             0.5,
             "#f7f7f7"
            ],
            [
             0.6,
             "#e6f5d0"
            ],
            [
             0.7,
             "#b8e186"
            ],
            [
             0.8,
             "#7fbc41"
            ],
            [
             0.9,
             "#4d9221"
            ],
            [
             1,
             "#276419"
            ]
           ],
           "sequential": [
            [
             0,
             "#0d0887"
            ],
            [
             0.1111111111111111,
             "#46039f"
            ],
            [
             0.2222222222222222,
             "#7201a8"
            ],
            [
             0.3333333333333333,
             "#9c179e"
            ],
            [
             0.4444444444444444,
             "#bd3786"
            ],
            [
             0.5555555555555556,
             "#d8576b"
            ],
            [
             0.6666666666666666,
             "#ed7953"
            ],
            [
             0.7777777777777778,
             "#fb9f3a"
            ],
            [
             0.8888888888888888,
             "#fdca26"
            ],
            [
             1,
             "#f0f921"
            ]
           ],
           "sequentialminus": [
            [
             0,
             "#0d0887"
            ],
            [
             0.1111111111111111,
             "#46039f"
            ],
            [
             0.2222222222222222,
             "#7201a8"
            ],
            [
             0.3333333333333333,
             "#9c179e"
            ],
            [
             0.4444444444444444,
             "#bd3786"
            ],
            [
             0.5555555555555556,
             "#d8576b"
            ],
            [
             0.6666666666666666,
             "#ed7953"
            ],
            [
             0.7777777777777778,
             "#fb9f3a"
            ],
            [
             0.8888888888888888,
             "#fdca26"
            ],
            [
             1,
             "#f0f921"
            ]
           ]
          },
          "colorway": [
           "#636efa",
           "#EF553B",
           "#00cc96",
           "#ab63fa",
           "#FFA15A",
           "#19d3f3",
           "#FF6692",
           "#B6E880",
           "#FF97FF",
           "#FECB52"
          ],
          "font": {
           "color": "#2a3f5f"
          },
          "geo": {
           "bgcolor": "white",
           "lakecolor": "white",
           "landcolor": "#E5ECF6",
           "showlakes": true,
           "showland": true,
           "subunitcolor": "white"
          },
          "hoverlabel": {
           "align": "left"
          },
          "hovermode": "closest",
          "mapbox": {
           "style": "light"
          },
          "paper_bgcolor": "white",
          "plot_bgcolor": "#E5ECF6",
          "polar": {
           "angularaxis": {
            "gridcolor": "white",
            "linecolor": "white",
            "ticks": ""
           },
           "bgcolor": "#E5ECF6",
           "radialaxis": {
            "gridcolor": "white",
            "linecolor": "white",
            "ticks": ""
           }
          },
          "scene": {
           "xaxis": {
            "backgroundcolor": "#E5ECF6",
            "gridcolor": "white",
            "gridwidth": 2,
            "linecolor": "white",
            "showbackground": true,
            "ticks": "",
            "zerolinecolor": "white"
           },
           "yaxis": {
            "backgroundcolor": "#E5ECF6",
            "gridcolor": "white",
            "gridwidth": 2,
            "linecolor": "white",
            "showbackground": true,
            "ticks": "",
            "zerolinecolor": "white"
           },
           "zaxis": {
            "backgroundcolor": "#E5ECF6",
            "gridcolor": "white",
            "gridwidth": 2,
            "linecolor": "white",
            "showbackground": true,
            "ticks": "",
            "zerolinecolor": "white"
           }
          },
          "shapedefaults": {
           "line": {
            "color": "#2a3f5f"
           }
          },
          "ternary": {
           "aaxis": {
            "gridcolor": "white",
            "linecolor": "white",
            "ticks": ""
           },
           "baxis": {
            "gridcolor": "white",
            "linecolor": "white",
            "ticks": ""
           },
           "bgcolor": "#E5ECF6",
           "caxis": {
            "gridcolor": "white",
            "linecolor": "white",
            "ticks": ""
           }
          },
          "title": {
           "x": 0.05
          },
          "xaxis": {
           "automargin": true,
           "gridcolor": "white",
           "linecolor": "white",
           "ticks": "",
           "title": {
            "standoff": 15
           },
           "zerolinecolor": "white",
           "zerolinewidth": 2
          },
          "yaxis": {
           "automargin": true,
           "gridcolor": "white",
           "linecolor": "white",
           "ticks": "",
           "title": {
            "standoff": 15
           },
           "zerolinecolor": "white",
           "zerolinewidth": 2
          }
         }
        },
        "title": {
         "text": "PCA"
        },
        "xaxis": {
         "anchor": "y",
         "domain": [
          0,
          1
         ],
         "title": {
          "text": "x"
         }
        },
        "yaxis": {
         "anchor": "x",
         "domain": [
          0,
          1
         ],
         "title": {
          "text": "y"
         }
        }
       }
      }
     },
     "metadata": {},
     "output_type": "display_data"
    }
   ],
   "source": [
    "## Lakukan PCA untuk mengurangi jumlah fitur menjadi 2 fitur saja\n",
    "pca = PCA(n_components=2)\n",
    "pca.fit(data2)\n",
    "pca_data = pca.transform(data2)\n",
    "\n",
    "## buat dataframe dari hasil pca\n",
    "pca_df = pd.DataFrame(data=pca_data, columns=['x', 'y'])\n",
    "pca_df.head()\n",
    "\n",
    "## plot pca_df using plotly\n",
    "fig = px.scatter(pca_df, x='x', y='y', title='PCA')\n",
    "fig.show()"
   ]
  },
  {
   "cell_type": "code",
   "execution_count": 8,
   "metadata": {},
   "outputs": [
    {
     "data": {
      "application/vnd.plotly.v1+json": {
       "config": {
        "plotlyServerURL": "https://plot.ly"
       },
       "data": [
        {
         "customdata": [
          [
           "The Bad Dreamers",
           "Part Time God"
          ],
          [
           "Sami Matar",
           "Fringe Society"
          ],
          [
           "Arcis",
           "The Arcane Arts"
          ],
          [
           "Fury Weekend",
           "Knightriders"
          ],
          [
           "Kayzo",
           "WAITING"
          ],
          [
           "Bag Raiders",
           "Shooting Stars"
          ],
          [
           "pewdiepie",
           "Bitch Lasagna"
          ],
          [
           "F-777",
           "Ludicrous Speed 1"
          ],
          [
           "Fort Minor",
           "Remember the Name (feat. Styles of Beyond)"
          ],
          [
           "Lil Wayne",
           "Sucker for Pain (with Wiz Khalifa, Imagine Dragons, Logic & Ty Dolla $ign feat. X Ambassadors)"
          ],
          [
           "Besomorph",
           "Apologize"
          ],
          [
           "Arc North",
           "Down"
          ],
          [
           "EQRIC",
           "Love You Like A Love Song"
          ],
          [
           "Anthony Keyrouz",
           "Losing Touch"
          ],
          [
           "TheFatRat",
           "Unity"
          ],
          [
           "K-391",
           "Play"
          ],
          [
           "Vicetone",
           "Nevada"
          ],
          [
           "M|O|O|N",
           "Dust"
          ],
          [
           "dj-Nate",
           "Electrodynamix"
          ],
          [
           "Van Halen",
           "Eruption - 2015 Remaster"
          ],
          [
           "Van Halen",
           "Runnin' with the Devil - 2015 Remaster"
          ],
          [
           "F-777",
           "Airborne Robots"
          ],
          [
           "F-777",
           "Ludicrous Speed 2"
          ],
          [
           "DOPEDROP",
           "Moskau"
          ],
          [
           "Michael Hunter",
           "Soviet Connection \\xe2\\x80\\x94 the Theme from Grand Theft Auto IV"
          ],
          [
           "Elena Siegman",
           "115"
          ],
          [
           "Mick Gordon",
           "Bfg Division"
          ],
          [
           "Kevin Sherwood",
           "Damned"
          ],
          [
           "Liu",
           "Pirate"
          ],
          [
           "Nathan Evans",
           "Wellerman - Sea Shanty"
          ],
          [
           "Bossfight",
           "Milky Ways"
          ],
          [
           "RIOT",
           "Overkill"
          ],
          [
           "Dance With the Dead",
           "Diabolic"
          ],
          [
           "Hyper",
           "Spoiler - Original Mix"
          ],
          [
           "Music Falcon",
           "Coffin Dance"
          ],
          [
           "Scatman John",
           "Scatman - DJ Kadozer 2003 Radio Edit"
          ],
          [
           "Helix",
           "Liberty"
          ],
          [
           "KLIO",
           "The Spectre"
          ],
          [
           "Charizmatic",
           "Never Really Gone - Resensed Remix"
          ],
          [
           "t.A.T.u.",
           "All The Things She Said - Fernando Garibay Remix"
          ],
          [
           "Besomorph",
           "Zombie (Zombic & Felix Schorn Remix)"
          ],
          [
           "Alan Walker",
           "Alone"
          ],
          [
           "Casey Edwards",
           "Bury the Light"
          ],
          [
           "Hallmore",
           "Dead of the Night"
          ],
          [
           "B-Bass vs. DJ Mds",
           "Bass Is Kicking (2005 Edit)"
          ],
          [
           "d6ni4l",
           "Drive Forever"
          ],
          [
           "Simon Chylinski",
           "Abandon Ship"
          ],
          [
           "NOMA",
           "Brain Power"
          ],
          [
           "RichaadEB",
           "Crab Rave"
          ],
          [
           "Xomu",
           "Last Dance"
          ],
          [
           "Soar",
           "Dance 'till You're Dead (Remix)"
          ],
          [
           "Go2",
           "Spitfire"
          ],
          [
           "Archie",
           "Back Again"
          ],
          [
           "Our Stolen Theory",
           "United - L.A.O.S Remix"
          ],
          [
           "Rayden",
           "Libera Me From Hell - from \"Gurren Lagann\""
          ],
          [
           "Panda Eyes",
           "Highscore"
          ],
          [
           "Vicetone",
           "Animal"
          ]
         ],
         "hovertemplate": "x=%{x}<br>y=%{y}<br>hover_data_0=%{customdata[0]}<br>hover_data_1=%{customdata[1]}<br>color=%{marker.color}<extra></extra>",
         "legendgroup": "",
         "marker": {
          "color": [
           1,
           3,
           7,
           7,
           5,
           1,
           1,
           4,
           1,
           2,
           1,
           1,
           1,
           6,
           1,
           6,
           6,
           7,
           6,
           7,
           6,
           7,
           4,
           6,
           6,
           2,
           0,
           3,
           7,
           1,
           0,
           4,
           5,
           0,
           3,
           6,
           2,
           6,
           2,
           1,
           6,
           6,
           0,
           7,
           0,
           3,
           3,
           2,
           0,
           5,
           1,
           2,
           3,
           2,
           0,
           7,
           2
          ],
          "coloraxis": "coloraxis",
          "symbol": "circle"
         },
         "mode": "markers",
         "name": "",
         "orientation": "v",
         "showlegend": false,
         "type": "scatter",
         "x": [
          -0.45746451733964444,
          0.5771148583949477,
          0.40145336493782935,
          0.37338379439627295,
          -0.03397597971847407,
          -0.3761105075673755,
          -0.5143812405477317,
          0.6109625911386686,
          -0.5956455683124244,
          -0.5449742945382969,
          -0.347448262505084,
          -0.5233015131309816,
          -0.4835659426503919,
          -0.33182222880930523,
          -0.46565918311003407,
          -0.26961384590112153,
          -0.29394495182618924,
          0.6062458096978907,
          -0.017570522880878424,
          0.5028873439895963,
          -0.3726770370061626,
          0.6868633635603529,
          0.3191184698246479,
          -0.14942323910566785,
          -0.189943504183947,
          -0.4195211214669875,
          0.7083485782229327,
          0.7776603347427817,
          0.31585969825514915,
          -0.5192058482427255,
          0.512893818174186,
          0.32140857625859504,
          -0.07862783861646627,
          0.49496171442501646,
          0.3936023332735602,
          -0.31446903375436075,
          -0.2682641425616259,
          -0.3372375190613769,
          -0.3943076559781005,
          -0.3601187989805816,
          -0.3871022141994477,
          -0.36765237653939153,
          0.6020330054945771,
          0.30755622303279795,
          0.4886781072592834,
          0.49793708216370397,
          0.46676069981669616,
          -0.32979487993812895,
          0.5662732008240947,
          0.048146603674939586,
          -0.5656576567609496,
          -0.45642186578550725,
          0.23791131084262446,
          -0.4224712837394805,
          0.26974490931518524,
          0.4621043154232086,
          -0.3615355323806926
         ],
         "xaxis": "x",
         "y": [
          -0.3542818021146472,
          -0.5938215937439816,
          -0.14131006623218184,
          -0.03791791602165179,
          0.25190402328363326,
          -0.22340462919585374,
          -0.11866489199862973,
          0.5685257315226296,
          -0.3832780695678385,
          0.3914732452828087,
          -0.2446711183942805,
          -0.3481683299872522,
          -0.106894523928456,
          0.030176337329838154,
          -0.23705610993994172,
          -0.10086806880046523,
          -0.09290373083640424,
          -0.21974241961314395,
          -0.23796344611087888,
          -0.0826382194277181,
          0.04025871305142703,
          -0.09641666961506329,
          0.8121581648036976,
          -0.10361216456022082,
          -0.15021518596209943,
          0.5364437629068418,
          0.08734074721434693,
          -0.4012554104240355,
          -0.12336570194830154,
          -0.36899014116829815,
          0.3473345818677861,
          0.5657469097790216,
          0.1304066726831694,
          0.35631229523563135,
          -0.4164815867955279,
          0.032213044003900126,
          0.2812479569384059,
          -0.16828492346728358,
          0.48250490265342416,
          -0.2748823822294115,
          -0.017638142647175836,
          -0.13157958982967788,
          0.25949070712892575,
          0.020109915882784657,
          0.16360423872685537,
          -0.7919290539435091,
          -0.30916489160926885,
          0.6335331331365305,
          0.06646938150030124,
          0.4443878794673619,
          -0.24517997633562522,
          0.2020464234330155,
          -0.4026002635184137,
          0.4711115798260177,
          0.33151580770292277,
          -0.16412039720559107,
          0.18298526181154928
         ],
         "yaxis": "y"
        }
       ],
       "layout": {
        "coloraxis": {
         "colorbar": {
          "title": {
           "text": "color"
          }
         },
         "colorscale": [
          [
           0,
           "rgb(150,0,90)"
          ],
          [
           0.125,
           "rgb(0,0,200)"
          ],
          [
           0.25,
           "rgb(0,25,255)"
          ],
          [
           0.375,
           "rgb(0,152,255)"
          ],
          [
           0.5,
           "rgb(44,255,150)"
          ],
          [
           0.625,
           "rgb(151,255,0)"
          ],
          [
           0.75,
           "rgb(255,234,0)"
          ],
          [
           0.875,
           "rgb(255,111,0)"
          ],
          [
           1,
           "rgb(255,0,0)"
          ]
         ]
        },
        "legend": {
         "tracegroupgap": 0
        },
        "margin": {
         "t": 60
        },
        "template": {
         "data": {
          "bar": [
           {
            "error_x": {
             "color": "#2a3f5f"
            },
            "error_y": {
             "color": "#2a3f5f"
            },
            "marker": {
             "line": {
              "color": "#E5ECF6",
              "width": 0.5
             },
             "pattern": {
              "fillmode": "overlay",
              "size": 10,
              "solidity": 0.2
             }
            },
            "type": "bar"
           }
          ],
          "barpolar": [
           {
            "marker": {
             "line": {
              "color": "#E5ECF6",
              "width": 0.5
             },
             "pattern": {
              "fillmode": "overlay",
              "size": 10,
              "solidity": 0.2
             }
            },
            "type": "barpolar"
           }
          ],
          "carpet": [
           {
            "aaxis": {
             "endlinecolor": "#2a3f5f",
             "gridcolor": "white",
             "linecolor": "white",
             "minorgridcolor": "white",
             "startlinecolor": "#2a3f5f"
            },
            "baxis": {
             "endlinecolor": "#2a3f5f",
             "gridcolor": "white",
             "linecolor": "white",
             "minorgridcolor": "white",
             "startlinecolor": "#2a3f5f"
            },
            "type": "carpet"
           }
          ],
          "choropleth": [
           {
            "colorbar": {
             "outlinewidth": 0,
             "ticks": ""
            },
            "type": "choropleth"
           }
          ],
          "contour": [
           {
            "colorbar": {
             "outlinewidth": 0,
             "ticks": ""
            },
            "colorscale": [
             [
              0,
              "#0d0887"
             ],
             [
              0.1111111111111111,
              "#46039f"
             ],
             [
              0.2222222222222222,
              "#7201a8"
             ],
             [
              0.3333333333333333,
              "#9c179e"
             ],
             [
              0.4444444444444444,
              "#bd3786"
             ],
             [
              0.5555555555555556,
              "#d8576b"
             ],
             [
              0.6666666666666666,
              "#ed7953"
             ],
             [
              0.7777777777777778,
              "#fb9f3a"
             ],
             [
              0.8888888888888888,
              "#fdca26"
             ],
             [
              1,
              "#f0f921"
             ]
            ],
            "type": "contour"
           }
          ],
          "contourcarpet": [
           {
            "colorbar": {
             "outlinewidth": 0,
             "ticks": ""
            },
            "type": "contourcarpet"
           }
          ],
          "heatmap": [
           {
            "colorbar": {
             "outlinewidth": 0,
             "ticks": ""
            },
            "colorscale": [
             [
              0,
              "#0d0887"
             ],
             [
              0.1111111111111111,
              "#46039f"
             ],
             [
              0.2222222222222222,
              "#7201a8"
             ],
             [
              0.3333333333333333,
              "#9c179e"
             ],
             [
              0.4444444444444444,
              "#bd3786"
             ],
             [
              0.5555555555555556,
              "#d8576b"
             ],
             [
              0.6666666666666666,
              "#ed7953"
             ],
             [
              0.7777777777777778,
              "#fb9f3a"
             ],
             [
              0.8888888888888888,
              "#fdca26"
             ],
             [
              1,
              "#f0f921"
             ]
            ],
            "type": "heatmap"
           }
          ],
          "heatmapgl": [
           {
            "colorbar": {
             "outlinewidth": 0,
             "ticks": ""
            },
            "colorscale": [
             [
              0,
              "#0d0887"
             ],
             [
              0.1111111111111111,
              "#46039f"
             ],
             [
              0.2222222222222222,
              "#7201a8"
             ],
             [
              0.3333333333333333,
              "#9c179e"
             ],
             [
              0.4444444444444444,
              "#bd3786"
             ],
             [
              0.5555555555555556,
              "#d8576b"
             ],
             [
              0.6666666666666666,
              "#ed7953"
             ],
             [
              0.7777777777777778,
              "#fb9f3a"
             ],
             [
              0.8888888888888888,
              "#fdca26"
             ],
             [
              1,
              "#f0f921"
             ]
            ],
            "type": "heatmapgl"
           }
          ],
          "histogram": [
           {
            "marker": {
             "pattern": {
              "fillmode": "overlay",
              "size": 10,
              "solidity": 0.2
             }
            },
            "type": "histogram"
           }
          ],
          "histogram2d": [
           {
            "colorbar": {
             "outlinewidth": 0,
             "ticks": ""
            },
            "colorscale": [
             [
              0,
              "#0d0887"
             ],
             [
              0.1111111111111111,
              "#46039f"
             ],
             [
              0.2222222222222222,
              "#7201a8"
             ],
             [
              0.3333333333333333,
              "#9c179e"
             ],
             [
              0.4444444444444444,
              "#bd3786"
             ],
             [
              0.5555555555555556,
              "#d8576b"
             ],
             [
              0.6666666666666666,
              "#ed7953"
             ],
             [
              0.7777777777777778,
              "#fb9f3a"
             ],
             [
              0.8888888888888888,
              "#fdca26"
             ],
             [
              1,
              "#f0f921"
             ]
            ],
            "type": "histogram2d"
           }
          ],
          "histogram2dcontour": [
           {
            "colorbar": {
             "outlinewidth": 0,
             "ticks": ""
            },
            "colorscale": [
             [
              0,
              "#0d0887"
             ],
             [
              0.1111111111111111,
              "#46039f"
             ],
             [
              0.2222222222222222,
              "#7201a8"
             ],
             [
              0.3333333333333333,
              "#9c179e"
             ],
             [
              0.4444444444444444,
              "#bd3786"
             ],
             [
              0.5555555555555556,
              "#d8576b"
             ],
             [
              0.6666666666666666,
              "#ed7953"
             ],
             [
              0.7777777777777778,
              "#fb9f3a"
             ],
             [
              0.8888888888888888,
              "#fdca26"
             ],
             [
              1,
              "#f0f921"
             ]
            ],
            "type": "histogram2dcontour"
           }
          ],
          "mesh3d": [
           {
            "colorbar": {
             "outlinewidth": 0,
             "ticks": ""
            },
            "type": "mesh3d"
           }
          ],
          "parcoords": [
           {
            "line": {
             "colorbar": {
              "outlinewidth": 0,
              "ticks": ""
             }
            },
            "type": "parcoords"
           }
          ],
          "pie": [
           {
            "automargin": true,
            "type": "pie"
           }
          ],
          "scatter": [
           {
            "fillpattern": {
             "fillmode": "overlay",
             "size": 10,
             "solidity": 0.2
            },
            "type": "scatter"
           }
          ],
          "scatter3d": [
           {
            "line": {
             "colorbar": {
              "outlinewidth": 0,
              "ticks": ""
             }
            },
            "marker": {
             "colorbar": {
              "outlinewidth": 0,
              "ticks": ""
             }
            },
            "type": "scatter3d"
           }
          ],
          "scattercarpet": [
           {
            "marker": {
             "colorbar": {
              "outlinewidth": 0,
              "ticks": ""
             }
            },
            "type": "scattercarpet"
           }
          ],
          "scattergeo": [
           {
            "marker": {
             "colorbar": {
              "outlinewidth": 0,
              "ticks": ""
             }
            },
            "type": "scattergeo"
           }
          ],
          "scattergl": [
           {
            "marker": {
             "colorbar": {
              "outlinewidth": 0,
              "ticks": ""
             }
            },
            "type": "scattergl"
           }
          ],
          "scattermapbox": [
           {
            "marker": {
             "colorbar": {
              "outlinewidth": 0,
              "ticks": ""
             }
            },
            "type": "scattermapbox"
           }
          ],
          "scatterpolar": [
           {
            "marker": {
             "colorbar": {
              "outlinewidth": 0,
              "ticks": ""
             }
            },
            "type": "scatterpolar"
           }
          ],
          "scatterpolargl": [
           {
            "marker": {
             "colorbar": {
              "outlinewidth": 0,
              "ticks": ""
             }
            },
            "type": "scatterpolargl"
           }
          ],
          "scatterternary": [
           {
            "marker": {
             "colorbar": {
              "outlinewidth": 0,
              "ticks": ""
             }
            },
            "type": "scatterternary"
           }
          ],
          "surface": [
           {
            "colorbar": {
             "outlinewidth": 0,
             "ticks": ""
            },
            "colorscale": [
             [
              0,
              "#0d0887"
             ],
             [
              0.1111111111111111,
              "#46039f"
             ],
             [
              0.2222222222222222,
              "#7201a8"
             ],
             [
              0.3333333333333333,
              "#9c179e"
             ],
             [
              0.4444444444444444,
              "#bd3786"
             ],
             [
              0.5555555555555556,
              "#d8576b"
             ],
             [
              0.6666666666666666,
              "#ed7953"
             ],
             [
              0.7777777777777778,
              "#fb9f3a"
             ],
             [
              0.8888888888888888,
              "#fdca26"
             ],
             [
              1,
              "#f0f921"
             ]
            ],
            "type": "surface"
           }
          ],
          "table": [
           {
            "cells": {
             "fill": {
              "color": "#EBF0F8"
             },
             "line": {
              "color": "white"
             }
            },
            "header": {
             "fill": {
              "color": "#C8D4E3"
             },
             "line": {
              "color": "white"
             }
            },
            "type": "table"
           }
          ]
         },
         "layout": {
          "annotationdefaults": {
           "arrowcolor": "#2a3f5f",
           "arrowhead": 0,
           "arrowwidth": 1
          },
          "autotypenumbers": "strict",
          "coloraxis": {
           "colorbar": {
            "outlinewidth": 0,
            "ticks": ""
           }
          },
          "colorscale": {
           "diverging": [
            [
             0,
             "#8e0152"
            ],
            [
             0.1,
             "#c51b7d"
            ],
            [
             0.2,
             "#de77ae"
            ],
            [
             0.3,
             "#f1b6da"
            ],
            [
             0.4,
             "#fde0ef"
            ],
            [
             0.5,
             "#f7f7f7"
            ],
            [
             0.6,
             "#e6f5d0"
            ],
            [
             0.7,
             "#b8e186"
            ],
            [
             0.8,
             "#7fbc41"
            ],
            [
             0.9,
             "#4d9221"
            ],
            [
             1,
             "#276419"
            ]
           ],
           "sequential": [
            [
             0,
             "#0d0887"
            ],
            [
             0.1111111111111111,
             "#46039f"
            ],
            [
             0.2222222222222222,
             "#7201a8"
            ],
            [
             0.3333333333333333,
             "#9c179e"
            ],
            [
             0.4444444444444444,
             "#bd3786"
            ],
            [
             0.5555555555555556,
             "#d8576b"
            ],
            [
             0.6666666666666666,
             "#ed7953"
            ],
            [
             0.7777777777777778,
             "#fb9f3a"
            ],
            [
             0.8888888888888888,
             "#fdca26"
            ],
            [
             1,
             "#f0f921"
            ]
           ],
           "sequentialminus": [
            [
             0,
             "#0d0887"
            ],
            [
             0.1111111111111111,
             "#46039f"
            ],
            [
             0.2222222222222222,
             "#7201a8"
            ],
            [
             0.3333333333333333,
             "#9c179e"
            ],
            [
             0.4444444444444444,
             "#bd3786"
            ],
            [
             0.5555555555555556,
             "#d8576b"
            ],
            [
             0.6666666666666666,
             "#ed7953"
            ],
            [
             0.7777777777777778,
             "#fb9f3a"
            ],
            [
             0.8888888888888888,
             "#fdca26"
            ],
            [
             1,
             "#f0f921"
            ]
           ]
          },
          "colorway": [
           "#636efa",
           "#EF553B",
           "#00cc96",
           "#ab63fa",
           "#FFA15A",
           "#19d3f3",
           "#FF6692",
           "#B6E880",
           "#FF97FF",
           "#FECB52"
          ],
          "font": {
           "color": "#2a3f5f"
          },
          "geo": {
           "bgcolor": "white",
           "lakecolor": "white",
           "landcolor": "#E5ECF6",
           "showlakes": true,
           "showland": true,
           "subunitcolor": "white"
          },
          "hoverlabel": {
           "align": "left"
          },
          "hovermode": "closest",
          "mapbox": {
           "style": "light"
          },
          "paper_bgcolor": "white",
          "plot_bgcolor": "#E5ECF6",
          "polar": {
           "angularaxis": {
            "gridcolor": "white",
            "linecolor": "white",
            "ticks": ""
           },
           "bgcolor": "#E5ECF6",
           "radialaxis": {
            "gridcolor": "white",
            "linecolor": "white",
            "ticks": ""
           }
          },
          "scene": {
           "xaxis": {
            "backgroundcolor": "#E5ECF6",
            "gridcolor": "white",
            "gridwidth": 2,
            "linecolor": "white",
            "showbackground": true,
            "ticks": "",
            "zerolinecolor": "white"
           },
           "yaxis": {
            "backgroundcolor": "#E5ECF6",
            "gridcolor": "white",
            "gridwidth": 2,
            "linecolor": "white",
            "showbackground": true,
            "ticks": "",
            "zerolinecolor": "white"
           },
           "zaxis": {
            "backgroundcolor": "#E5ECF6",
            "gridcolor": "white",
            "gridwidth": 2,
            "linecolor": "white",
            "showbackground": true,
            "ticks": "",
            "zerolinecolor": "white"
           }
          },
          "shapedefaults": {
           "line": {
            "color": "#2a3f5f"
           }
          },
          "ternary": {
           "aaxis": {
            "gridcolor": "white",
            "linecolor": "white",
            "ticks": ""
           },
           "baxis": {
            "gridcolor": "white",
            "linecolor": "white",
            "ticks": ""
           },
           "bgcolor": "#E5ECF6",
           "caxis": {
            "gridcolor": "white",
            "linecolor": "white",
            "ticks": ""
           }
          },
          "title": {
           "x": 0.05
          },
          "xaxis": {
           "automargin": true,
           "gridcolor": "white",
           "linecolor": "white",
           "ticks": "",
           "title": {
            "standoff": 15
           },
           "zerolinecolor": "white",
           "zerolinewidth": 2
          },
          "yaxis": {
           "automargin": true,
           "gridcolor": "white",
           "linecolor": "white",
           "ticks": "",
           "title": {
            "standoff": 15
           },
           "zerolinecolor": "white",
           "zerolinewidth": 2
          }
         }
        },
        "xaxis": {
         "anchor": "y",
         "domain": [
          0,
          1
         ],
         "title": {
          "text": "x"
         }
        },
        "yaxis": {
         "anchor": "x",
         "domain": [
          0,
          1
         ],
         "title": {
          "text": "y"
         }
        }
       }
      }
     },
     "metadata": {},
     "output_type": "display_data"
    }
   ],
   "source": [
    "## rubah bentuk data ke list \n",
    "data2 = list(zip(pca_df['x'], pca_df['y']))\n",
    "\n",
    "## fit kmeans model\n",
    "kmeans = KMeans(n_init=10, max_iter=1000).fit(data2)\n",
    "\n",
    "## make scatter plot using plotly\n",
    "fig = px.scatter(pca_df, x='x', y='y', color=kmeans.labels_, color_continuous_scale='rainbow', hover_data=[data.artist, data.name])\n",
    "fig.show()"
   ]
  }
 ],
 "metadata": {
  "kernelspec": {
   "display_name": "deEnv",
   "language": "python",
   "name": "python3"
  },
  "language_info": {
   "codemirror_mode": {
    "name": "ipython",
    "version": 3
   },
   "file_extension": ".py",
   "mimetype": "text/x-python",
   "name": "python",
   "nbconvert_exporter": "python",
   "pygments_lexer": "ipython3",
   "version": "3.10.14"
  }
 },
 "nbformat": 4,
 "nbformat_minor": 2
}
